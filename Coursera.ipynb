{
 "cells": [
  {
   "cell_type": "code",
   "execution_count": 32,
   "metadata": {},
   "outputs": [
    {
     "name": "stdout",
     "output_type": "stream",
     "text": [
      "Please enter your height in meters: 1.82\n",
      "Please enter your weight in kgs: 83.9\n",
      "\n",
      "Your BMI IS:  25.329066537857745\n",
      "Your normal weight range is  66  to  79\n",
      "Thanks for using the calculator\n",
      "\n",
      "Good day!🙂\n"
     ]
    }
   ],
   "source": [
    "try:\n",
    "    Height = float(input(\"Please enter your height in meters: \"))\n",
    "    Weight = float(input(\"Please enter your weight in kgs: \"))\n",
    "    BMI = Weight/(Height*Height)\n",
    "except ValueError:\n",
    "    print(\"Please enter numerals\")\n",
    "except ZeroDivisionError:\n",
    "    print(\"Please enter non-zero height\")\n",
    "except other:\n",
    "    print(\"There is some error with inputs\")\n",
    "else:\n",
    "    print(\"\\nYour BMI IS: \", BMI)\n",
    "    print(\"Your normal weight range is \", int(20*Height*Height), \" to \", int(24*Height*Height))\n",
    "finally:\n",
    "    print(\"Thanks for using the calculator\")\n",
    "        \n",
    "print(\"\\nGood day!🙂\")"
   ]
  },
  {
   "cell_type": "code",
   "execution_count": null,
   "metadata": {},
   "outputs": [],
   "source": []
  }
 ],
 "metadata": {
  "kernelspec": {
   "display_name": "Python 3 (ipykernel)",
   "language": "python",
   "name": "python3"
  },
  "language_info": {
   "codemirror_mode": {
    "name": "ipython",
    "version": 3
   },
   "file_extension": ".py",
   "mimetype": "text/x-python",
   "name": "python",
   "nbconvert_exporter": "python",
   "pygments_lexer": "ipython3",
   "version": "3.9.10+"
  }
 },
 "nbformat": 4,
 "nbformat_minor": 2
}
